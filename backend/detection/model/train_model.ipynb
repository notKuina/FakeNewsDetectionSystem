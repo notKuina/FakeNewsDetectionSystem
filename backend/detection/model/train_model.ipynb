{
 "cells": [
  {
   "cell_type": "markdown",
   "id": "70d1ad32-c661-4778-8438-76fc0badef54",
   "metadata": {},
   "source": [
    "import libraries\n"
   ]
  },
  {
   "cell_type": "code",
   "execution_count": 1,
   "id": "8bb9407f-27d5-47dd-8c92-fb351cda52dc",
   "metadata": {},
   "outputs": [],
   "source": [
    "import pandas as pd\n",
    "from sklearn.model_selection import train_test_split\n",
    "from sklearn.feature_extraction.text import TfidfVectorizer\n",
    "from sklearn.linear_model import LogisticRegression\n",
    "from sklearn.metrics import classification_report\n",
    "import re\n",
    "import joblib\n",
    "import string"
   ]
  },
  {
   "cell_type": "code",
   "execution_count": 2,
   "id": "94656a8a-3506-4389-92d4-e7480f2357f7",
   "metadata": {},
   "outputs": [],
   "source": [
    "import pandas as pd\n",
    "\n",
    "fake = pd.read_csv('../data/Fake.csv',)\n",
    "true = pd.read_csv('../data/True.csv',)\n"
   ]
  },
  {
   "cell_type": "code",
   "execution_count": 3,
   "id": "84799cf6-192e-4530-a723-bc38e09ec9f2",
   "metadata": {},
   "outputs": [],
   "source": [
    "fake['class']=0\n",
    "true['class']=1"
   ]
  },
  {
   "cell_type": "code",
   "execution_count": 4,
   "id": "7989b1b2",
   "metadata": {},
   "outputs": [
    {
     "name": "stdout",
     "output_type": "stream",
     "text": [
      "Current working directory: D:\\fakeNewsDetection\\FakeNews\\backend\\detection\\model\n"
     ]
    }
   ],
   "source": [
    "import os\n",
    "print(\"Current working directory:\", os.getcwd())\n",
    "\n"
   ]
  },
  {
   "cell_type": "code",
   "execution_count": 5,
   "id": "5190b866-1adc-437a-8e4d-4a4183872021",
   "metadata": {},
   "outputs": [
    {
     "data": {
      "text/html": [
       "<div>\n",
       "<style scoped>\n",
       "    .dataframe tbody tr th:only-of-type {\n",
       "        vertical-align: middle;\n",
       "    }\n",
       "\n",
       "    .dataframe tbody tr th {\n",
       "        vertical-align: top;\n",
       "    }\n",
       "\n",
       "    .dataframe thead th {\n",
       "        text-align: right;\n",
       "    }\n",
       "</style>\n",
       "<table border=\"1\" class=\"dataframe\">\n",
       "  <thead>\n",
       "    <tr style=\"text-align: right;\">\n",
       "      <th></th>\n",
       "      <th>title</th>\n",
       "      <th>text</th>\n",
       "      <th>subject</th>\n",
       "      <th>date</th>\n",
       "      <th>class</th>\n",
       "    </tr>\n",
       "  </thead>\n",
       "  <tbody>\n",
       "    <tr>\n",
       "      <th>0</th>\n",
       "      <td>Donald Trump Sends Out Embarrassing New Year’...</td>\n",
       "      <td>Donald Trump just couldn t wish all Americans ...</td>\n",
       "      <td>News</td>\n",
       "      <td>December 31, 2017</td>\n",
       "      <td>0</td>\n",
       "    </tr>\n",
       "    <tr>\n",
       "      <th>1</th>\n",
       "      <td>Drunk Bragging Trump Staffer Started Russian ...</td>\n",
       "      <td>House Intelligence Committee Chairman Devin Nu...</td>\n",
       "      <td>News</td>\n",
       "      <td>December 31, 2017</td>\n",
       "      <td>0</td>\n",
       "    </tr>\n",
       "    <tr>\n",
       "      <th>2</th>\n",
       "      <td>Sheriff David Clarke Becomes An Internet Joke...</td>\n",
       "      <td>On Friday, it was revealed that former Milwauk...</td>\n",
       "      <td>News</td>\n",
       "      <td>December 30, 2017</td>\n",
       "      <td>0</td>\n",
       "    </tr>\n",
       "    <tr>\n",
       "      <th>3</th>\n",
       "      <td>Trump Is So Obsessed He Even Has Obama’s Name...</td>\n",
       "      <td>On Christmas day, Donald Trump announced that ...</td>\n",
       "      <td>News</td>\n",
       "      <td>December 29, 2017</td>\n",
       "      <td>0</td>\n",
       "    </tr>\n",
       "    <tr>\n",
       "      <th>4</th>\n",
       "      <td>Pope Francis Just Called Out Donald Trump Dur...</td>\n",
       "      <td>Pope Francis used his annual Christmas Day mes...</td>\n",
       "      <td>News</td>\n",
       "      <td>December 25, 2017</td>\n",
       "      <td>0</td>\n",
       "    </tr>\n",
       "  </tbody>\n",
       "</table>\n",
       "</div>"
      ],
      "text/plain": [
       "                                               title  \\\n",
       "0   Donald Trump Sends Out Embarrassing New Year’...   \n",
       "1   Drunk Bragging Trump Staffer Started Russian ...   \n",
       "2   Sheriff David Clarke Becomes An Internet Joke...   \n",
       "3   Trump Is So Obsessed He Even Has Obama’s Name...   \n",
       "4   Pope Francis Just Called Out Donald Trump Dur...   \n",
       "\n",
       "                                                text subject  \\\n",
       "0  Donald Trump just couldn t wish all Americans ...    News   \n",
       "1  House Intelligence Committee Chairman Devin Nu...    News   \n",
       "2  On Friday, it was revealed that former Milwauk...    News   \n",
       "3  On Christmas day, Donald Trump announced that ...    News   \n",
       "4  Pope Francis used his annual Christmas Day mes...    News   \n",
       "\n",
       "                date  class  \n",
       "0  December 31, 2017      0  \n",
       "1  December 31, 2017      0  \n",
       "2  December 30, 2017      0  \n",
       "3  December 29, 2017      0  \n",
       "4  December 25, 2017      0  "
      ]
     },
     "execution_count": 5,
     "metadata": {},
     "output_type": "execute_result"
    }
   ],
   "source": [
    "fake.head()"
   ]
  },
  {
   "cell_type": "code",
   "execution_count": 6,
   "id": "79d53730-7761-494c-800c-fdb5676c799b",
   "metadata": {},
   "outputs": [
    {
     "data": {
      "text/html": [
       "<div>\n",
       "<style scoped>\n",
       "    .dataframe tbody tr th:only-of-type {\n",
       "        vertical-align: middle;\n",
       "    }\n",
       "\n",
       "    .dataframe tbody tr th {\n",
       "        vertical-align: top;\n",
       "    }\n",
       "\n",
       "    .dataframe thead th {\n",
       "        text-align: right;\n",
       "    }\n",
       "</style>\n",
       "<table border=\"1\" class=\"dataframe\">\n",
       "  <thead>\n",
       "    <tr style=\"text-align: right;\">\n",
       "      <th></th>\n",
       "      <th>title</th>\n",
       "      <th>text</th>\n",
       "      <th>subject</th>\n",
       "      <th>date</th>\n",
       "      <th>class</th>\n",
       "    </tr>\n",
       "  </thead>\n",
       "  <tbody>\n",
       "    <tr>\n",
       "      <th>0</th>\n",
       "      <td>As U.S. budget fight looms, Republicans flip t...</td>\n",
       "      <td>WASHINGTON (Reuters) - The head of a conservat...</td>\n",
       "      <td>politicsNews</td>\n",
       "      <td>December 31, 2017</td>\n",
       "      <td>1</td>\n",
       "    </tr>\n",
       "    <tr>\n",
       "      <th>1</th>\n",
       "      <td>U.S. military to accept transgender recruits o...</td>\n",
       "      <td>WASHINGTON (Reuters) - Transgender people will...</td>\n",
       "      <td>politicsNews</td>\n",
       "      <td>December 29, 2017</td>\n",
       "      <td>1</td>\n",
       "    </tr>\n",
       "    <tr>\n",
       "      <th>2</th>\n",
       "      <td>Senior U.S. Republican senator: 'Let Mr. Muell...</td>\n",
       "      <td>WASHINGTON (Reuters) - The special counsel inv...</td>\n",
       "      <td>politicsNews</td>\n",
       "      <td>December 31, 2017</td>\n",
       "      <td>1</td>\n",
       "    </tr>\n",
       "    <tr>\n",
       "      <th>3</th>\n",
       "      <td>FBI Russia probe helped by Australian diplomat...</td>\n",
       "      <td>WASHINGTON (Reuters) - Trump campaign adviser ...</td>\n",
       "      <td>politicsNews</td>\n",
       "      <td>December 30, 2017</td>\n",
       "      <td>1</td>\n",
       "    </tr>\n",
       "    <tr>\n",
       "      <th>4</th>\n",
       "      <td>Trump wants Postal Service to charge 'much mor...</td>\n",
       "      <td>SEATTLE/WASHINGTON (Reuters) - President Donal...</td>\n",
       "      <td>politicsNews</td>\n",
       "      <td>December 29, 2017</td>\n",
       "      <td>1</td>\n",
       "    </tr>\n",
       "  </tbody>\n",
       "</table>\n",
       "</div>"
      ],
      "text/plain": [
       "                                               title  \\\n",
       "0  As U.S. budget fight looms, Republicans flip t...   \n",
       "1  U.S. military to accept transgender recruits o...   \n",
       "2  Senior U.S. Republican senator: 'Let Mr. Muell...   \n",
       "3  FBI Russia probe helped by Australian diplomat...   \n",
       "4  Trump wants Postal Service to charge 'much mor...   \n",
       "\n",
       "                                                text       subject  \\\n",
       "0  WASHINGTON (Reuters) - The head of a conservat...  politicsNews   \n",
       "1  WASHINGTON (Reuters) - Transgender people will...  politicsNews   \n",
       "2  WASHINGTON (Reuters) - The special counsel inv...  politicsNews   \n",
       "3  WASHINGTON (Reuters) - Trump campaign adviser ...  politicsNews   \n",
       "4  SEATTLE/WASHINGTON (Reuters) - President Donal...  politicsNews   \n",
       "\n",
       "                 date  class  \n",
       "0  December 31, 2017       1  \n",
       "1  December 29, 2017       1  \n",
       "2  December 31, 2017       1  \n",
       "3  December 30, 2017       1  \n",
       "4  December 29, 2017       1  "
      ]
     },
     "execution_count": 6,
     "metadata": {},
     "output_type": "execute_result"
    }
   ],
   "source": [
    "true.head()"
   ]
  },
  {
   "cell_type": "code",
   "execution_count": 7,
   "id": "e768cc2c-e8a0-41a7-90e9-4778b47322c4",
   "metadata": {},
   "outputs": [],
   "source": [
    "import pandas as pd\n",
    "\n",
    "df = pd.read_csv(\"../data/True.csv\")\n",
    "\n",
    "# Combine 'title' and 'text' columns, handling missing values\n",
    "paragraphs = (df[\"title\"].fillna('') + \". \" + df[\"text\"].fillna('')).tolist()\n",
    "\n",
    "# Join all paragraphs into one big string\n",
    "full_paragraph = \" \".join(paragraphs)\n",
    "\n",
    "# Write the combined text to a file\n",
    "with open(\"real_news_paragraph.txt\", \"w\", encoding=\"utf-8\") as f:\n",
    "    f.write(full_paragraph)\n"
   ]
  },
  {
   "cell_type": "code",
   "execution_count": 8,
   "id": "3a16195f-d942-4a0a-865f-5cc5e5d4581f",
   "metadata": {},
   "outputs": [],
   "source": [
    "paragraphs = (df[\"title\"].fillna('') + \".\" + df[\"text\"].fillna('')).tolist()"
   ]
  },
  {
   "cell_type": "code",
   "execution_count": 9,
   "id": "d25a85f0-7f3c-45ab-802d-6a7b299638dd",
   "metadata": {},
   "outputs": [],
   "source": [
    "full_paragraph = \" \".join(paragraphs)"
   ]
  },
  {
   "cell_type": "code",
   "execution_count": 10,
   "id": "90f873d1-373c-4d01-b459-64ec380f9c02",
   "metadata": {},
   "outputs": [],
   "source": [
    "with open(\"real_news_paragraph.txt\", \"w\", encoding= \"utf-8\") as f:f.write(full_paragraph)"
   ]
  },
  {
   "cell_type": "code",
   "execution_count": 11,
   "id": "9266cd10-3ac2-4c54-9726-37c2ed1b060f",
   "metadata": {},
   "outputs": [],
   "source": [
    "data = pd.concat([fake,true], axis = 0)"
   ]
  },
  {
   "cell_type": "code",
   "execution_count": 12,
   "id": "ceef1896-20d5-46c7-a811-b2566df87a96",
   "metadata": {},
   "outputs": [
    {
     "data": {
      "text/html": [
       "<div>\n",
       "<style scoped>\n",
       "    .dataframe tbody tr th:only-of-type {\n",
       "        vertical-align: middle;\n",
       "    }\n",
       "\n",
       "    .dataframe tbody tr th {\n",
       "        vertical-align: top;\n",
       "    }\n",
       "\n",
       "    .dataframe thead th {\n",
       "        text-align: right;\n",
       "    }\n",
       "</style>\n",
       "<table border=\"1\" class=\"dataframe\">\n",
       "  <thead>\n",
       "    <tr style=\"text-align: right;\">\n",
       "      <th></th>\n",
       "      <th>title</th>\n",
       "      <th>text</th>\n",
       "      <th>subject</th>\n",
       "      <th>date</th>\n",
       "      <th>class</th>\n",
       "    </tr>\n",
       "  </thead>\n",
       "  <tbody>\n",
       "    <tr>\n",
       "      <th>9270</th>\n",
       "      <td>BREAKING NEWS: Leftist Media Publishes Major F...</td>\n",
       "      <td>How many times in one week can ABC News publis...</td>\n",
       "      <td>politics</td>\n",
       "      <td>Dec 5, 2017</td>\n",
       "      <td>0</td>\n",
       "    </tr>\n",
       "    <tr>\n",
       "      <th>5140</th>\n",
       "      <td>Trump Fanboy Newt Gingrich Turns Traitor On H...</td>\n",
       "      <td>Every presidential candidate s economic plan h...</td>\n",
       "      <td>News</td>\n",
       "      <td>August 8, 2016</td>\n",
       "      <td>0</td>\n",
       "    </tr>\n",
       "    <tr>\n",
       "      <th>16431</th>\n",
       "      <td>Islamist militants 'taken out of action' in Ma...</td>\n",
       "      <td>PARIS (Reuters) - The French military has targ...</td>\n",
       "      <td>worldnews</td>\n",
       "      <td>October 26, 2017</td>\n",
       "      <td>1</td>\n",
       "    </tr>\n",
       "    <tr>\n",
       "      <th>12561</th>\n",
       "      <td>MULTIPLE FBI OFFICES Investigated Clinton Foun...</td>\n",
       "      <td>A stunning story of corruption, cronyism and c...</td>\n",
       "      <td>politics</td>\n",
       "      <td>Oct 30, 2016</td>\n",
       "      <td>0</td>\n",
       "    </tr>\n",
       "    <tr>\n",
       "      <th>16381</th>\n",
       "      <td>Italian Senate approves electoral law; likely ...</td>\n",
       "      <td>ROME (Reuters) - Italy s upper house Senate ap...</td>\n",
       "      <td>worldnews</td>\n",
       "      <td>October 26, 2017</td>\n",
       "      <td>1</td>\n",
       "    </tr>\n",
       "    <tr>\n",
       "      <th>1647</th>\n",
       "      <td>Trump campaign manager Manafort offered to bri...</td>\n",
       "      <td>WASHINGTON (Reuters) - Paul Manafort, Presiden...</td>\n",
       "      <td>politicsNews</td>\n",
       "      <td>September 20, 2017</td>\n",
       "      <td>1</td>\n",
       "    </tr>\n",
       "    <tr>\n",
       "      <th>1613</th>\n",
       "      <td>What's a 'dotard' anyway? Kim's insult to Trump</td>\n",
       "      <td>(Reuters) - North Korean leader Kim Jong Un ha...</td>\n",
       "      <td>politicsNews</td>\n",
       "      <td>September 22, 2017</td>\n",
       "      <td>1</td>\n",
       "    </tr>\n",
       "    <tr>\n",
       "      <th>14086</th>\n",
       "      <td>Kuwait's emir leaves hospital after successful...</td>\n",
       "      <td>DUBAI (Reuters) - Kuwait s Emir Sheikh Sabah A...</td>\n",
       "      <td>worldnews</td>\n",
       "      <td>November 23, 2017</td>\n",
       "      <td>1</td>\n",
       "    </tr>\n",
       "    <tr>\n",
       "      <th>2732</th>\n",
       "      <td>Trump’s Muslim Ban Protects America By Separa...</td>\n",
       "      <td>To protect America from terrorist threats that...</td>\n",
       "      <td>News</td>\n",
       "      <td>February 1, 2017</td>\n",
       "      <td>0</td>\n",
       "    </tr>\n",
       "    <tr>\n",
       "      <th>4559</th>\n",
       "      <td>Lockheed Martin wins $1.6 billion U.S. defense...</td>\n",
       "      <td>WASHINGTON (Reuters) - Lockheed Martin Corp wa...</td>\n",
       "      <td>politicsNews</td>\n",
       "      <td>March 31, 2017</td>\n",
       "      <td>1</td>\n",
       "    </tr>\n",
       "  </tbody>\n",
       "</table>\n",
       "</div>"
      ],
      "text/plain": [
       "                                                   title  \\\n",
       "9270   BREAKING NEWS: Leftist Media Publishes Major F...   \n",
       "5140    Trump Fanboy Newt Gingrich Turns Traitor On H...   \n",
       "16431  Islamist militants 'taken out of action' in Ma...   \n",
       "12561  MULTIPLE FBI OFFICES Investigated Clinton Foun...   \n",
       "16381  Italian Senate approves electoral law; likely ...   \n",
       "1647   Trump campaign manager Manafort offered to bri...   \n",
       "1613     What's a 'dotard' anyway? Kim's insult to Trump   \n",
       "14086  Kuwait's emir leaves hospital after successful...   \n",
       "2732    Trump’s Muslim Ban Protects America By Separa...   \n",
       "4559   Lockheed Martin wins $1.6 billion U.S. defense...   \n",
       "\n",
       "                                                    text       subject  \\\n",
       "9270   How many times in one week can ABC News publis...      politics   \n",
       "5140   Every presidential candidate s economic plan h...          News   \n",
       "16431  PARIS (Reuters) - The French military has targ...     worldnews   \n",
       "12561  A stunning story of corruption, cronyism and c...      politics   \n",
       "16381  ROME (Reuters) - Italy s upper house Senate ap...     worldnews   \n",
       "1647   WASHINGTON (Reuters) - Paul Manafort, Presiden...  politicsNews   \n",
       "1613   (Reuters) - North Korean leader Kim Jong Un ha...  politicsNews   \n",
       "14086  DUBAI (Reuters) - Kuwait s Emir Sheikh Sabah A...     worldnews   \n",
       "2732   To protect America from terrorist threats that...          News   \n",
       "4559   WASHINGTON (Reuters) - Lockheed Martin Corp wa...  politicsNews   \n",
       "\n",
       "                      date  class  \n",
       "9270           Dec 5, 2017      0  \n",
       "5140        August 8, 2016      0  \n",
       "16431    October 26, 2017       1  \n",
       "12561         Oct 30, 2016      0  \n",
       "16381    October 26, 2017       1  \n",
       "1647   September 20, 2017       1  \n",
       "1613   September 22, 2017       1  \n",
       "14086   November 23, 2017       1  \n",
       "2732      February 1, 2017      0  \n",
       "4559       March 31, 2017       1  "
      ]
     },
     "execution_count": 12,
     "metadata": {},
     "output_type": "execute_result"
    }
   ],
   "source": [
    "data.sample(10)"
   ]
  },
  {
   "cell_type": "code",
   "execution_count": 13,
   "id": "6fd18a62-647a-47b3-9942-09f16cd16025",
   "metadata": {},
   "outputs": [],
   "source": [
    "data = data.drop([\"title\",\"subject\",\"date\"], axis = 1)"
   ]
  },
  {
   "cell_type": "raw",
   "id": "33830ec3-ed97-4acd-87ab-b17c03a95d42",
   "metadata": {},
   "source": [
    "data.reset_index(inplace=True)"
   ]
  },
  {
   "cell_type": "code",
   "execution_count": 14,
   "id": "0f3a3d7f-0030-4f9f-92e6-77b3e29af0bf",
   "metadata": {},
   "outputs": [
    {
     "name": "stdout",
     "output_type": "stream",
     "text": [
      "Index(['text', 'class'], dtype='object')\n"
     ]
    }
   ],
   "source": [
    "print(data.columns)"
   ]
  },
  {
   "cell_type": "code",
   "execution_count": 15,
   "id": "2615ab03-2102-4809-ab8a-1030bf88fd0e",
   "metadata": {},
   "outputs": [
    {
     "data": {
      "text/html": [
       "<div>\n",
       "<style scoped>\n",
       "    .dataframe tbody tr th:only-of-type {\n",
       "        vertical-align: middle;\n",
       "    }\n",
       "\n",
       "    .dataframe tbody tr th {\n",
       "        vertical-align: top;\n",
       "    }\n",
       "\n",
       "    .dataframe thead th {\n",
       "        text-align: right;\n",
       "    }\n",
       "</style>\n",
       "<table border=\"1\" class=\"dataframe\">\n",
       "  <thead>\n",
       "    <tr style=\"text-align: right;\">\n",
       "      <th></th>\n",
       "      <th>text</th>\n",
       "      <th>class</th>\n",
       "    </tr>\n",
       "  </thead>\n",
       "  <tbody>\n",
       "    <tr>\n",
       "      <th>583</th>\n",
       "      <td>Donald Trump has now taken his threats to Nort...</td>\n",
       "      <td>0</td>\n",
       "    </tr>\n",
       "    <tr>\n",
       "      <th>17531</th>\n",
       "      <td>DUBAI (Reuters) - Saudi Arabia welcomed  the r...</td>\n",
       "      <td>1</td>\n",
       "    </tr>\n",
       "    <tr>\n",
       "      <th>15288</th>\n",
       "      <td>America s next president could be eased into o...</td>\n",
       "      <td>0</td>\n",
       "    </tr>\n",
       "    <tr>\n",
       "      <th>1222</th>\n",
       "      <td>WASHINGTON (Reuters) - U.S. Secretary of State...</td>\n",
       "      <td>1</td>\n",
       "    </tr>\n",
       "    <tr>\n",
       "      <th>19675</th>\n",
       "      <td>For all the hate Democrats openly express for ...</td>\n",
       "      <td>0</td>\n",
       "    </tr>\n",
       "  </tbody>\n",
       "</table>\n",
       "</div>"
      ],
      "text/plain": [
       "                                                    text  class\n",
       "583    Donald Trump has now taken his threats to Nort...      0\n",
       "17531  DUBAI (Reuters) - Saudi Arabia welcomed  the r...      1\n",
       "15288  America s next president could be eased into o...      0\n",
       "1222   WASHINGTON (Reuters) - U.S. Secretary of State...      1\n",
       "19675  For all the hate Democrats openly express for ...      0"
      ]
     },
     "execution_count": 15,
     "metadata": {},
     "output_type": "execute_result"
    }
   ],
   "source": [
    "data.sample(5)"
   ]
  },
  {
   "cell_type": "code",
   "execution_count": 16,
   "id": "b7e61657-e4f3-41a6-885a-f65e93089aab",
   "metadata": {},
   "outputs": [],
   "source": [
    "def clean_text(text):\n",
    "    if not isinstance(text, str):\n",
    "        return ''\n",
    "    text = text.lower()\n",
    "    text = re.sub(r'\\[.*?\\]', '', text)\n",
    "    text = re.sub(r'https?://\\S+|www\\.\\S+', '', text)\n",
    "    text = re.sub(r'<.*?>+', '', text)\n",
    "    text = re.sub(r'[%s]' % re.escape(string.punctuation), '', text)\n",
    "    text = re.sub(r'\\n', ' ', text)\n",
    "    text = re.sub(r'\\w*\\d\\w*', '', text)\n",
    "    text = re.sub(r'\\W+', ' ', text)\n",
    "    return text.strip()\n"
   ]
  },
  {
   "cell_type": "code",
   "execution_count": 17,
   "id": "e0480910-4236-4b45-818c-9e50f8165ed3",
   "metadata": {},
   "outputs": [],
   "source": [
    "data = pd.read_csv('../data/True.csv')  # Use your real file path here\n",
    "data[\"text\"] = data[\"text\"].apply(clean_text)"
   ]
  },
  {
   "cell_type": "code",
   "execution_count": 18,
   "id": "12b9c901-0bb8-4555-8a59-09afed6010c5",
   "metadata": {},
   "outputs": [
    {
     "name": "stdout",
     "output_type": "stream",
     "text": [
      "Index(['title', 'text', 'subject', 'date'], dtype='object')\n"
     ]
    }
   ],
   "source": [
    "print(data.columns)\n",
    "\n"
   ]
  },
  {
   "cell_type": "code",
   "execution_count": 19,
   "id": "c9f5bb2b-10bd-4886-8587-02de19741cc4",
   "metadata": {},
   "outputs": [],
   "source": [
    "true['label']=1\n",
    "fake['label']=0"
   ]
  },
  {
   "cell_type": "code",
   "execution_count": 20,
   "id": "78247607-1e0c-4d72-860a-3479d9927433",
   "metadata": {},
   "outputs": [
    {
     "ename": "NameError",
     "evalue": "name 'xtrain' is not defined",
     "output_type": "error",
     "traceback": [
      "\u001b[31m---------------------------------------------------------------------------\u001b[39m",
      "\u001b[31mNameError\u001b[39m                                 Traceback (most recent call last)",
      "\u001b[36mCell\u001b[39m\u001b[36m \u001b[39m\u001b[32mIn[20]\u001b[39m\u001b[32m, line 2\u001b[39m\n\u001b[32m      1\u001b[39m vectorizer = TfidfVectorizer()\n\u001b[32m----> \u001b[39m\u001b[32m2\u001b[39m xv_train = vectorizer.fit_transform(\u001b[43mxtrain\u001b[49m)\n\u001b[32m      3\u001b[39m xv_test = vectorizer.transform(xtest)\n",
      "\u001b[31mNameError\u001b[39m: name 'xtrain' is not defined"
     ]
    }
   ],
   "source": [
    "vectorizer = TfidfVectorizer()\n",
    "xv_train = vectorizer.fit_transform(xtrain)\n",
    "xv_test = vectorizer.transform(xtest)"
   ]
  },
  {
   "cell_type": "code",
   "execution_count": null,
   "id": "f3bc6b7f-b405-4436-ae83-d7cb59726183",
   "metadata": {},
   "outputs": [],
   "source": [
    "from sklearn.linear_model import LogisticRegression\n",
    "lr = LogisticRegression()\n",
    "lr.fit(xv_train, ytrain)"
   ]
  },
  {
   "cell_type": "code",
   "execution_count": null,
   "id": "a879c664-628b-43c0-b531-8ca3e90736b9",
   "metadata": {
    "scrolled": true
   },
   "outputs": [],
   "source": [
    "whos"
   ]
  },
  {
   "cell_type": "code",
   "execution_count": null,
   "id": "eea3412c-3089-4f51-a85e-d35da1fb0e0b",
   "metadata": {},
   "outputs": [],
   "source": [
    "prediction = lr.predict(xv_test)\n",
    "print(lr.score(xv_test,ytest))"
   ]
  },
  {
   "cell_type": "code",
   "execution_count": null,
   "id": "97b162f1-2d42-4f80-a15e-a96fede22c58",
   "metadata": {},
   "outputs": [],
   "source": [
    "print(classification_report(ytest,prediction))"
   ]
  },
  {
   "cell_type": "code",
   "execution_count": null,
   "id": "5c1adcec-44c9-4d2a-8a08-cb7d91c1d38c",
   "metadata": {},
   "outputs": [],
   "source": [
    "joblib.dump(vectorizer,\"vectorizer.jb\")\n",
    "joblib.dump(lr,\"lr_model.jb\")"
   ]
  },
  {
   "cell_type": "code",
   "execution_count": null,
   "id": "26b0a993-d1b9-4d89-8793-d8249d140ea4",
   "metadata": {},
   "outputs": [],
   "source": [
    "pip install newspaper3k"
   ]
  },
  {
   "cell_type": "code",
   "execution_count": null,
   "id": "ca0c3edf-b5ee-4b6b-bc3d-d6be272a6e9e",
   "metadata": {},
   "outputs": [],
   "source": [
    "!pip install newspaper3k"
   ]
  },
  {
   "cell_type": "code",
   "execution_count": null,
   "id": "93100ccc-0c5b-4ce2-8283-4ed7650af19a",
   "metadata": {},
   "outputs": [],
   "source": [
    "from newspaper import Article\n"
   ]
  },
  {
   "cell_type": "code",
   "execution_count": null,
   "id": "c9b47ddc-ca1e-4e73-ab9d-4bdb06c85388",
   "metadata": {},
   "outputs": [],
   "source": [
    "# import joblib\n",
    "\n",
    "# model = joblib.load(\"lr_model.jb\")  # or whatever filename you saved it as\n",
    "# from sklearn.metrics import accuracy_score, classification_report\n",
    "\n",
    "# X_test_vectorized = vectorizer.transform(X_test)\n",
    "# y_pred = model.predict(X_test_vectorized)\n",
    "\n",
    "# print(classification_report(y_test, y_pred))\n"
   ]
  },
  {
   "cell_type": "code",
   "execution_count": null,
   "id": "67077f4f-7ada-41ed-bfd5-e4f47c076b45",
   "metadata": {},
   "outputs": [],
   "source": [
    "print(\"--- Dataset Shapes ---\")\n",
    "print(f\"Original DataFrame shape: {data.shape}\")  # or df.shape if you want\n",
    "print(f\"xtrain shape: {xtrain.shape}\")\n",
    "print(f\"ytrain shape: {ytrain.shape}\")\n",
    "print(f\"xtest shape: {xtest.shape}\")\n",
    "print(f\"ytest shape: {ytest.shape}\")\n",
    "\n",
    "# Verify sizes sum correctly\n",
    "assert (xtrain.shape[0] + xtest.shape[0]) == data.shape[0]\n",
    "assert (ytrain.shape[0] + ytest.shape[0]) == data.shape[0]\n",
    "print(\"Shape check passed!\")\n"
   ]
  },
  {
   "cell_type": "markdown",
   "id": "99357190",
   "metadata": {},
   "source": []
  },
  {
   "cell_type": "code",
   "execution_count": null,
   "id": "08b18ea6-40f6-4ef6-937e-40bc2b0d6ef9",
   "metadata": {},
   "outputs": [],
   "source": []
  }
 ],
 "metadata": {
  "kernelspec": {
   "display_name": "venv",
   "language": "python",
   "name": "python3"
  },
  "language_info": {
   "codemirror_mode": {
    "name": "ipython",
    "version": 3
   },
   "file_extension": ".py",
   "mimetype": "text/x-python",
   "name": "python",
   "nbconvert_exporter": "python",
   "pygments_lexer": "ipython3",
   "version": "3.13.3"
  }
 },
 "nbformat": 4,
 "nbformat_minor": 5
}
